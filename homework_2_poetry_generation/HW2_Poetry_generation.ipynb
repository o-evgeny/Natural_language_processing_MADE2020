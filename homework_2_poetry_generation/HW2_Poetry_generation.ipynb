{
 "cells": [
  {
   "cell_type": "markdown",
   "metadata": {},
   "source": [
    "## Homework №2"
   ]
  },
  {
   "cell_type": "markdown",
   "metadata": {},
   "source": [
    "### Almost Shakespeare\n",
    "\n",
    "Let's try to generate some Shakespeare poetry using RNNs. The sonnets file is available in the notebook directory.\n",
    "\n",
    "Text generation can be designed in several steps:\n",
    "    \n",
    "1. Data loading.\n",
    "2. Dictionary generation.\n",
    "3. Data preprocessing.\n",
    "4. Model (neural network) training.\n",
    "5. Text generation (model evaluation).\n"
   ]
  },
  {
   "cell_type": "markdown",
   "metadata": {},
   "source": [
    "### Data loading"
   ]
  },
  {
   "cell_type": "markdown",
   "metadata": {},
   "source": [
    "Shakespeare sonnets are awailable at this [link](http://www.gutenberg.org/ebooks/1041?msg=welcome_stranger). In addition, they are stored in the same directory as this notebook (`sonnetes.txt`).\n",
    "\n",
    "Simple preprocessing is already done for you in the next cell: all technical info is dropped."
   ]
  },
  {
   "cell_type": "code",
   "execution_count": 1,
   "metadata": {},
   "outputs": [],
   "source": [
    "import string\n",
    "import numpy as np\n",
    "import matplotlib.pyplot as plt\n",
    "%matplotlib inline\n",
    "import os\n",
    "import torch, torch.nn as nn\n",
    "import torch.nn.functional as F"
   ]
  },
  {
   "cell_type": "code",
   "execution_count": 2,
   "metadata": {},
   "outputs": [
    {
     "name": "stdout",
     "output_type": "stream",
     "text": [
      "Файл «sonnets.txt» уже существует — не загружается.\r\n",
      "\r\n"
     ]
    }
   ],
   "source": [
    "try:\n",
    "    with open('../../datasets/Shakespeare_sonnets/sonnets.txt', 'r') as iofile:\n",
    "        text = iofile.readlines()\n",
    "except FileNotFoundError:\n",
    "    !wget https://raw.githubusercontent.com/neychev/made_nlp_course/master/datasets/Shakespeare_sonnets/sonnets.txt -nc\n",
    "    with open('sonnets.txt', 'r') as iofile:\n",
    "        text = iofile.readlines()"
   ]
  },
  {
   "cell_type": "code",
   "execution_count": 3,
   "metadata": {},
   "outputs": [],
   "source": [
    "TEXT_START = 45\n",
    "TEXT_END = -368\n",
    "text = text[TEXT_START : TEXT_END]\n",
    "assert len(text) == 2616"
   ]
  },
  {
   "cell_type": "markdown",
   "metadata": {},
   "source": [
    "In opposite to the in-class practice, this time we want to predict complex text. Let's reduce the complexity of the task and lowercase all the symbols.\n",
    "\n",
    "Now variable `text` is a list of strings. Join all the strings into one and lowercase it."
   ]
  },
  {
   "cell_type": "code",
   "execution_count": 4,
   "metadata": {},
   "outputs": [
    {
     "name": "stdout",
     "output_type": "stream",
     "text": [
      "OK!\n"
     ]
    }
   ],
   "source": [
    "# Join all the strings into one and lowercase it\n",
    "\n",
    "# Put result into variable text.\n",
    "text = \"\".join(text).lower()\n",
    "\n",
    "assert len(text) == 100225, 'Are you sure you have concatenated all the strings?'\n",
    "assert not any([x in set(text) for x in string.ascii_uppercase]), 'Uppercase letters are present'\n",
    "print('OK!')"
   ]
  },
  {
   "cell_type": "markdown",
   "metadata": {},
   "source": [
    "Put all the characters, that you've seen in the text, into variable `tokens`."
   ]
  },
  {
   "cell_type": "code",
   "execution_count": 5,
   "metadata": {},
   "outputs": [],
   "source": [
    "tokens = sorted(set(text))"
   ]
  },
  {
   "cell_type": "markdown",
   "metadata": {},
   "source": [
    "Create dictionary `token_to_idx = {<char>: <index>}` and dictionary `idx_to_token = {<index>: <char>}`"
   ]
  },
  {
   "cell_type": "code",
   "execution_count": 6,
   "metadata": {},
   "outputs": [],
   "source": [
    "# dict <index>:<char>\n",
    "# dict <char>:<index>\n",
    "token_to_idx = {}\n",
    "idx_to_token = {}\n",
    "for idx,token in enumerate(tokens, start = 0):\n",
    "    token_to_idx[token] = idx\n",
    "    idx_to_token[idx] = token"
   ]
  },
  {
   "cell_type": "markdown",
   "metadata": {},
   "source": [
    "*Comment: in this task we have only 38 different tokens, so let's use one-hot encoding.*"
   ]
  },
  {
   "cell_type": "markdown",
   "metadata": {},
   "source": [
    "### Building the model"
   ]
  },
  {
   "cell_type": "markdown",
   "metadata": {},
   "source": [
    "Now we want to build and train recurrent neural net which would be able to something similar to Shakespeare's poetry.\n",
    "\n",
    "Let's use vanilla RNN, similar to the one created during the lesson."
   ]
  },
  {
   "cell_type": "code",
   "execution_count": 7,
   "metadata": {},
   "outputs": [],
   "source": [
    "def to_matrix(names, max_len=None, pad=token_to_idx[' '], dtype='int32', batch_first = True):\n",
    "    \"\"\"Casts a list of names into rnn-digestable matrix\"\"\"\n",
    "    \n",
    "    max_len = max_len or max(map(len, names))\n",
    "    names_ix = np.zeros([len(names), max_len], dtype) + pad\n",
    "\n",
    "    for i in range(len(names)):\n",
    "        line_ix = [token_to_idx[c] for c in names[i]]\n",
    "        names_ix[i, :len(line_ix)] = line_ix\n",
    "        \n",
    "    if not batch_first: # convert [batch, time] into [time, batch]\n",
    "        names_ix = np.transpose(names_ix)\n",
    "\n",
    "    return names_ix"
   ]
  },
  {
   "cell_type": "code",
   "execution_count": 8,
   "metadata": {},
   "outputs": [],
   "source": [
    "class CharRNNLoop(nn.Module):\n",
    "    def __init__(self, num_tokens=len(tokens), embedding_size=16, rnn_num_units=64):\n",
    "        super(self.__class__, self).__init__()\n",
    "        self.emb = nn.Embedding(num_tokens, embedding_size)\n",
    "        self.rnn = nn.RNN(embedding_size, rnn_num_units, batch_first=True)\n",
    "        self.hid_to_logits = nn.Linear(rnn_num_units, num_tokens)\n",
    "        \n",
    "    def forward(self, x):\n",
    "        assert isinstance(x.data, torch.LongTensor)\n",
    "        h_seq, _ = self.rnn(self.emb(x))\n",
    "        logits = self.hid_to_logits(h_seq)    \n",
    "        return F.log_softmax(logits, -1)"
   ]
  },
  {
   "cell_type": "code",
   "execution_count": 9,
   "metadata": {},
   "outputs": [],
   "source": [
    "# Prepare data\n",
    "import re\n",
    "text_split_by_strings = text.split('\\n')\n",
    "text_split_by_4strings= [\"\".join(text_split_by_strings[i-4:i]) for i in range(4,len(text_split_by_strings),4)]\n",
    "text_split_by_chapter = re.split(\"\\n\\n\\s{1,}\\w{1,10}\\n\\n\",text)\n",
    "\n",
    "MAX_LENGTH = max(map(len, text_split_by_strings))\n",
    "temp = to_matrix(text_split_by_strings, max_len=MAX_LENGTH)\n",
    "text_split_by_strings_torch = torch.tensor(temp, dtype=torch.int64)\n",
    "\n",
    "MAX_LENGTH = max(map(len, text_split_by_4strings))\n",
    "temp = to_matrix(text_split_by_4strings, max_len=MAX_LENGTH)\n",
    "text_split_by_4strings_torch = torch.tensor(temp, dtype=torch.int64)\n",
    "\n",
    "MAX_LENGTH = max(map(len, text_split_by_chapter))\n",
    "temp = to_matrix(text_split_by_chapter, max_len=MAX_LENGTH)\n",
    "text_split_by_chapter_torch = torch.tensor(temp, dtype=torch.int64)\n"
   ]
  },
  {
   "cell_type": "code",
   "execution_count": 10,
   "metadata": {},
   "outputs": [],
   "source": [
    "from IPython.display import clear_output\n",
    "def train_model(\n",
    "    model,    \n",
    "    opt,\n",
    "    train_torch,\n",
    "    criterion,\n",
    "    count_tokens,\n",
    "    n_iterations=1000,\n",
    "    batch_size=32,\n",
    "    show_plots=True,\n",
    "):    \n",
    "    history = []\n",
    "    for i in range(n_iterations):        \n",
    "        ix = np.random.randint(0, len(train_torch), batch_size)\n",
    "        batch_ix = train_torch[ix]\n",
    "\n",
    "        logp_seq = model(batch_ix)\n",
    "                \n",
    "        # compute loss\n",
    "        predictions_logp = logp_seq[:, :-1]# YOUR CODE HERE\n",
    "        actual_next_tokens = batch_ix[:, 1:]# YOUR CODE HERE\n",
    "\n",
    "        loss = criterion(\n",
    "            predictions_logp.contiguous().view(-1, count_tokens),\n",
    "            actual_next_tokens.contiguous().view(-1)\n",
    "        ) # YOUR CODE HERE\n",
    "        # train with backprop\n",
    "        loss.backward()\n",
    "        opt.step()\n",
    "        opt.zero_grad()\n",
    "        # YOUR CODE HERE\n",
    "        \n",
    "        history.append(loss.data.numpy())\n",
    "        if show_plots:\n",
    "            if (i+1)%100==0:\n",
    "                clear_output(True)\n",
    "                plt.plot(history,label='loss')\n",
    "                plt.legend()\n",
    "                plt.show()\n",
    "\n",
    "    assert np.mean(history[:10]) > np.mean(history[-10:]), \"RNN didn't converge.\"    \n",
    "    "
   ]
  },
  {
   "cell_type": "code",
   "execution_count": 11,
   "metadata": {},
   "outputs": [],
   "source": [
    "def generate_sample(char_rnn, max_length, tokens,token_to_idx, seed_phrase=' seed', temperature=1.0):\n",
    "    '''\n",
    "    The function generates text given a phrase of length at least SEQ_LENGTH.\n",
    "    :param seed_phrase: prefix characters. The RNN is asked to continue the phrase\n",
    "    :param max_length: maximum output length, including seed_phrase\n",
    "    :param temperature: coefficient for sampling.  higher temperature produces more chaotic outputs, \n",
    "        smaller temperature converges to the single most likely output.\n",
    "        \n",
    "    Be careful with the model output. This model waits logits (not probabilities/log-probabilities)\n",
    "    of the next symbol.\n",
    "    '''    \n",
    "    x_sequence = [token_to_idx[token] for token in seed_phrase]\n",
    "    x_sequence = torch.tensor([x_sequence], dtype=torch.int64)\n",
    "\n",
    "\n",
    "        # for nn.RNN ...\n",
    "        #_ = char_rnn(x_sequence[:, :-1])\n",
    "        #start generating\n",
    "    for _ in range(max_length - len(seed_phrase)):\n",
    "            #print(x_sequence.shape, x_sequence, hid_state.shape)\n",
    "            #out = char_rnn(x_sequence[:, -1:])\n",
    "            out = char_rnn(x_sequence)\n",
    "            # Be really careful here with the model output\n",
    "            p_next = F.softmax(out[:,-1,:] / temperature, dim=-1).data.numpy()[0]\n",
    "            # sample next token and push it back into x_sequence\n",
    "            #print(p_next.shape, len(tokens))\n",
    "            next_ix = np.random.choice(len(tokens), p=p_next)\n",
    "            next_ix = torch.tensor([[next_ix]], dtype=torch.int64)\n",
    "            #print(x_sequence.shape, next_ix.shape)\n",
    "            x_sequence = torch.cat([x_sequence, next_ix], dim=1)\n",
    "\n",
    "    return ''.join([tokens[ix] for ix in x_sequence.data.numpy()[0]])"
   ]
  },
  {
   "cell_type": "markdown",
   "metadata": {},
   "source": [
    "Plot the loss function (axis X: number of epochs, axis Y: loss function)."
   ]
  },
  {
   "cell_type": "code",
   "execution_count": 12,
   "metadata": {},
   "outputs": [],
   "source": [
    "x_sequence = [token_to_idx[token] for token in \"good\"]\n",
    "x_sequence = torch.tensor([x_sequence], dtype=torch.int64)\n"
   ]
  },
  {
   "cell_type": "code",
   "execution_count": 13,
   "metadata": {},
   "outputs": [],
   "source": [
    "# use nn.RNN\n",
    "char_rnn_loop = CharRNNLoop()\n",
    "criterion = nn.NLLLoss()\n",
    "opt = torch.optim.RMSprop(char_rnn_loop.parameters())"
   ]
  },
  {
   "cell_type": "code",
   "execution_count": 14,
   "metadata": {},
   "outputs": [
    {
     "data": {
      "image/png": "[encoded data removed]",
      "text/plain": [
       "<Figure size 432x288 with 1 Axes>"
      ]
     },
     "metadata": {
      "needs_background": "light"
     },
     "output_type": "display_data"
    }
   ],
   "source": [
    "### ОБУЧЕНИЕ НА ЧЕТЕРЫХ СТРОКАХ (ГЛАВЫ без LSTM будут слишком \"велики\", а построчно обучаться не так эффективно)\n",
    "train_model(char_rnn_loop, opt, text_split_by_4strings_torch, criterion,len(tokens), n_iterations=1000, batch_size=12)"
   ]
  },
  {
   "cell_type": "code",
   "execution_count": 15,
   "metadata": {},
   "outputs": [
    {
     "name": "stdout",
     "output_type": "stream",
     "text": [
      "help the the the the the the the the the the the the the the the the the the the the the the the the the the the the the the the the the the the the t\n"
     ]
    }
   ],
   "source": [
    "print(generate_sample(char_rnn_loop,150,tokens,token_to_idx, seed_phrase=\"help \",temperature=0.1))"
   ]
  },
  {
   "cell_type": "code",
   "execution_count": 16,
   "metadata": {},
   "outputs": [
    {
     "name": "stdout",
     "output_type": "stream",
     "text": [
      "help the so the with the the the the the streate the the the the with the the the the the the the of the the the the so the the the the the deart the \n"
     ]
    }
   ],
   "source": [
    "print(generate_sample(char_rnn_loop,150,tokens,token_to_idx, seed_phrase=\"help \",temperature=0.2))"
   ]
  },
  {
   "cell_type": "code",
   "execution_count": 17,
   "metadata": {},
   "outputs": [
    {
     "name": "stdout",
     "output_type": "stream",
     "text": [
      "help the the of that the a and the of the the the the deter the on the then the that the the self the the dest the thee thou the be the the and thou a\n"
     ]
    }
   ],
   "source": [
    "print(generate_sample(char_rnn_loop,150,tokens,token_to_idx, seed_phrase=\"help \",temperature=0.3))"
   ]
  },
  {
   "cell_type": "code",
   "execution_count": 18,
   "metadata": {},
   "outputs": [
    {
     "name": "stdout",
     "output_type": "stream",
     "text": [
      "help the the for the of have hand of the of the so farst the with with i that come so and those thee the the love the thou with the worly the will the\n"
     ]
    }
   ],
   "source": [
    "print(generate_sample(char_rnn_loop,150,tokens,token_to_idx, seed_phrase=\"help \",temperature=0.4))"
   ]
  },
  {
   "cell_type": "code",
   "execution_count": 38,
   "metadata": {},
   "outputs": [
    {
     "name": "stdout",
     "output_type": "stream",
     "text": [
      "help of to with the the the the it will with mine the with so with that the thou in conk thou in the to the witleft can the the such conce thou thee, \n"
     ]
    }
   ],
   "source": [
    "print(generate_sample(char_rnn_loop,150,tokens,token_to_idx, seed_phrase=\"help \",temperature=0.5))"
   ]
  },
  {
   "cell_type": "code",
   "execution_count": 20,
   "metadata": {},
   "outputs": [
    {
     "name": "stdout",
     "output_type": "stream",
     "text": [
      "help out depeeshow'.    lxx                                                                                                                           \n"
     ]
    }
   ],
   "source": [
    "print(generate_sample(char_rnn_loop,150,tokens,token_to_idx, seed_phrase=\"help \",temperature=1.0))"
   ]
  },
  {
   "cell_type": "code",
   "execution_count": 21,
   "metadata": {},
   "outputs": [
    {
     "name": "stdout",
     "output_type": "stream",
     "text": [
      "help liksti'shle, may:  wavy thhedems' fwo dfhibeaulsamy be vw' moun., bonstark'lruveth nowser iscay,:' 'll that:thoneys woad asto meh closdimth'sc'd.\n"
     ]
    }
   ],
   "source": [
    "print(generate_sample(char_rnn_loop,150,tokens,token_to_idx, seed_phrase=\"help \",temperature=2.0))"
   ]
  },
  {
   "cell_type": "markdown",
   "metadata": {},
   "source": [
    "#### Вывод: Наиболее подходящее значение temperature есть 0.5, хотя практически идентично, если определять \"на глаз\", с 0.4\n",
    "\n"
   ]
  },
  {
   "cell_type": "code",
   "execution_count": null,
   "metadata": {},
   "outputs": [],
   "source": []
  },
  {
   "cell_type": "markdown",
   "metadata": {},
   "source": [
    "### More poetic model\n",
    "\n",
    "Let's use LSTM instead of vanilla RNN and compare the results."
   ]
  },
  {
   "cell_type": "markdown",
   "metadata": {},
   "source": [
    "Plot the loss function of the number of epochs. Does the final loss become better?"
   ]
  },
  {
   "cell_type": "code",
   "execution_count": 22,
   "metadata": {},
   "outputs": [],
   "source": [
    "class CharLSTMLoop(nn.Module):\n",
    "    def __init__(self, num_tokens=len(tokens), embedding_size=16, rnn_num_units=64):\n",
    "        super(self.__class__, self).__init__()\n",
    "        self.emb = nn.Embedding(num_tokens, embedding_size)\n",
    "        self.lstm = nn.LSTM(embedding_size, rnn_num_units, batch_first=True)\n",
    "        self.hid_to_logits = nn.Linear(rnn_num_units, num_tokens)\n",
    "        \n",
    "    def forward(self, x):\n",
    "        assert isinstance(x.data, torch.LongTensor)\n",
    "        h_seq, _ = self.lstm(self.emb(x))\n",
    "        logits = self.hid_to_logits(h_seq)    \n",
    "        return F.log_softmax(logits, -1)"
   ]
  },
  {
   "cell_type": "code",
   "execution_count": 23,
   "metadata": {},
   "outputs": [],
   "source": [
    "char_lstm_loop = CharLSTMLoop()\n",
    "criterion_lstm = nn.NLLLoss()\n",
    "opt_lstm = torch.optim.RMSprop(char_lstm_loop.parameters())"
   ]
  },
  {
   "cell_type": "code",
   "execution_count": 24,
   "metadata": {},
   "outputs": [
    {
     "data": {
      "image/png": "[encoded data removed]",
      "text/plain": [
       "<Figure size 432x288 with 1 Axes>"
      ]
     },
     "metadata": {
      "needs_background": "light"
     },
     "output_type": "display_data"
    }
   ],
   "source": [
    "## ОБУЧЕНИЕ НА ГЛАВАХ\n",
    "train_model(char_lstm_loop, opt_lstm, text_split_by_chapter_torch, criterion_lstm,len(tokens), n_iterations=1200, batch_size=8)"
   ]
  },
  {
   "cell_type": "code",
   "execution_count": 25,
   "metadata": {},
   "outputs": [
    {
     "name": "stdout",
     "output_type": "stream",
     "text": [
      "hate of thee,\n",
      "    the such me the world the world the world the strange, the world the strange.                                                                                                                                                                                                                                                                                                                                                                                                                     \n"
     ]
    }
   ],
   "source": [
    "print(generate_sample(char_lstm_loop,500 ,tokens,token_to_idx, seed_phrase=\"hate \",temperature=0.1))"
   ]
  },
  {
   "cell_type": "code",
   "execution_count": 26,
   "metadata": {},
   "outputs": [
    {
     "name": "stdout",
     "output_type": "stream",
     "text": [
      "hate of thee,\n",
      "    the sweet for my sake the world the world the world thee i am so thee thee to my love:\n",
      "    the present the grow'st the counters and the lind,\n",
      "  the worth the world in the world the present the strange.                                                                                                                                                                                                                                                                                         \n"
     ]
    }
   ],
   "source": [
    "print(generate_sample(char_lstm_loop,500 ,tokens,token_to_idx, seed_phrase=\"hate \",temperature=0.2))"
   ]
  },
  {
   "cell_type": "code",
   "execution_count": 27,
   "metadata": {},
   "outputs": [
    {
     "name": "stdout",
     "output_type": "stream",
     "text": [
      "hate of thee:\n",
      "    the strangsured by thy sweet shall doth me the world thee hand,\n",
      "  thou art the worst the worlds in the strangely prove thee thee,\n",
      "    the complay's worse the world and the world and the sun,\n",
      "  and with my love the truth in the hours to my grow\n",
      "  and so sweet love the strangely is spirit,\n",
      "  when i do i have summer strangely with the strange,\n",
      "  that the world with this with and with sweet be thee,\n",
      "    and heart the world thou art the world the lease the created did make\n",
      "  the cou\n"
     ]
    }
   ],
   "source": [
    "print(generate_sample(char_lstm_loop,500 ,tokens,token_to_idx, seed_phrase=\"hate \",temperature=0.3))"
   ]
  },
  {
   "cell_type": "code",
   "execution_count": 36,
   "metadata": {},
   "outputs": [
    {
     "name": "stdout",
     "output_type": "stream",
     "text": [
      "hate the present dear,\n",
      "  the sweet that thou art the right, and should i dear derair,\n",
      "  the wornd his proud that beauty doth his perfect,\n",
      "  when i am false my self to thee,\n",
      "  to be a dater so shows of thy self art love,\n",
      "  the worst the world the doth perjur'd to thee,\n",
      "  when i am so sweet thee with a their dear desert belove.\n",
      "  the strangst that i see thee like in thee,\n",
      "  the thing that thou art that shall still, and his present bear now.\n",
      "  so the report the canst my not the strong,\n",
      "  thou to th\n"
     ]
    }
   ],
   "source": [
    "print(generate_sample(char_lstm_loop,500 ,tokens,token_to_idx, seed_phrase=\"hate \",temperature=0.4))"
   ]
  },
  {
   "cell_type": "code",
   "execution_count": 29,
   "metadata": {},
   "outputs": [
    {
     "name": "stdout",
     "output_type": "stream",
     "text": [
      "hate of my heart,\n",
      "    and was i do not love the truly the deeds, so breathed heart,\n",
      "  what sweet in the right they thy sweet doth deceased,\n",
      "    for the perfection thee with me the true not show,\n",
      "    and so the black with my mistress to show dwanting thee,\n",
      "  and the worth the beauty did can see\n",
      "  when thou wilt thee not to wint to dre so so praise.\n",
      "  o! thy meartary in the offery someting from thee.\n",
      "    so in thy sweet sweetest me winter that do i sings me,\n",
      "    and so the world in thy sweet far t\n"
     ]
    }
   ],
   "source": [
    "print(generate_sample(char_lstm_loop,500 ,tokens,token_to_idx, seed_phrase=\"hate \",temperature=0.5))"
   ]
  },
  {
   "cell_type": "code",
   "execution_count": 30,
   "metadata": {},
   "outputs": [
    {
     "name": "stdout",
     "output_type": "stream",
     "text": [
      "hate two thee in every eye:\n",
      "  that in thy sweet as dost the lind,\n",
      "  with grow'st other it them unble me,\n",
      "  with tire the as pleasures i think in thee.\n",
      "  then, blunt most of thy love to have part frome\n",
      "  and this pamest not sins truth his writh to my main;\n",
      "  that every are thou are both nature's finding.\n",
      "    i due alll not o! fanseld, which he'full: this worthy where stand.                                                                                                                             \n"
     ]
    }
   ],
   "source": [
    "print(generate_sample(char_lstm_loop,500 ,tokens,token_to_idx, seed_phrase=\"hate \",temperature=1))"
   ]
  },
  {
   "cell_type": "code",
   "execution_count": 31,
   "metadata": {},
   "outputs": [
    {
     "name": "stdout",
     "output_type": "stream",
     "text": [
      "hate cwer;\n",
      "  borms will isflivsid! a-so\n",
      " wid:-banqus-mani's mounw?'y\n",
      "  tyry seiss.                                                mo! mins eytly vany and gpotptawesn sparp to baqus vilanks nrme: ago,\n",
      "  no, and didyarddst, at in al a)olve, yrtanch fidutess unkippy my figh,\n",
      "  migitu, in my lazewed copandizucs,\n",
      "  threitfiou! wing's knitnale.:-\n",
      "    hoatt me oblranty,--and mouwh make, let rendaimsiep'ers';\n",
      "  ill;\n",
      " loy, joy worlg'd mets, thours, hel!\n",
      "  timicy of, them frein, burn of feir, v'dq,ul;\n",
      "  b\n"
     ]
    }
   ],
   "source": [
    "print(generate_sample(char_lstm_loop,500 ,tokens,token_to_idx, seed_phrase=\"hate \",temperature=2))"
   ]
  },
  {
   "cell_type": "markdown",
   "metadata": {},
   "source": [
    "Generate text using the trained net with different `temperature` parameter: `[0.1, 0.2, 0.5, 1.0, 2.0]`.\n",
    "\n",
    "Evaluate the results visually, try to interpret them."
   ]
  },
  {
   "cell_type": "markdown",
   "metadata": {},
   "source": [
    "#### Вывод: Наиболее подходящее значение temperature есть 0.5, хотя 0.4 и 1 тоже неплохи"
   ]
  },
  {
   "cell_type": "code",
   "execution_count": null,
   "metadata": {},
   "outputs": [],
   "source": []
  },
  {
   "cell_type": "markdown",
   "metadata": {},
   "source": [
    "### Saving and loading models"
   ]
  },
  {
   "cell_type": "markdown",
   "metadata": {},
   "source": [
    "Save the model to the disk, then load it and generate text. Examples are available [here](https://pytorch.org/tutorials/beginner/saving_loading_models.html])."
   ]
  },
  {
   "cell_type": "code",
   "execution_count": 33,
   "metadata": {},
   "outputs": [
    {
     "name": "stderr",
     "output_type": "stream",
     "text": [
      "/Users/workhard/opt/anaconda3/lib/python3.7/site-packages/torch/serialization.py:360: UserWarning: Couldn't retrieve source code for container of type CharLSTMLoop. It won't be checked for correctness upon loading.\n",
      "  \"type \" + obj.__name__ + \". It won't be checked \"\n"
     ]
    }
   ],
   "source": [
    "torch.save(char_lstm_loop,\"model_lstm\")"
   ]
  },
  {
   "cell_type": "code",
   "execution_count": 34,
   "metadata": {},
   "outputs": [
    {
     "data": {
      "text/plain": [
       "CharLSTMLoop(\n",
       "  (emb): Embedding(38, 16)\n",
       "  (lstm): LSTM(16, 64, batch_first=True)\n",
       "  (hid_to_logits): Linear(in_features=64, out_features=38, bias=True)\n",
       ")"
      ]
     },
     "execution_count": 34,
     "metadata": {},
     "output_type": "execute_result"
    }
   ],
   "source": [
    "model = torch.load(\"model_lstm\")\n",
    "model.eval()"
   ]
  },
  {
   "cell_type": "code",
   "execution_count": 35,
   "metadata": {},
   "outputs": [
    {
     "name": "stdout",
     "output_type": "stream",
     "text": [
      "help his made thee thou art desert's waste\n",
      "  the might i do not the deceives,\n",
      "  they self with shall proud in the rich i dead,\n",
      "    to make and all thy love there by the linds in thee,\n",
      "    and the worth to my gelle me grow do i will knows not remember'd.\n",
      "  the confeds then i dear my fair and his i do i hose in thee will;\n",
      "  but i have see thee me thee the strength the winds with from thee:\n",
      "    the too as thine the world being for the praise thee:\n",
      "    for the worth of thy tongues to the beauty's lo\n"
     ]
    }
   ],
   "source": [
    "print(generate_sample(model,500 , tokens,token_to_idx,seed_phrase=\"help \",temperature=0.5))"
   ]
  },
  {
   "cell_type": "markdown",
   "metadata": {},
   "source": [
    "### References\n",
    "1. <a href='http://karpathy.github.io/2015/05/21/rnn-effectiveness/'> Andrew Karpathy blog post about RNN. </a> \n",
    "There are several examples of genration: Shakespeare texts, Latex formulas, Linux Sourse Code and children names.\n",
    "2. <a href='https://github.com/karpathy/char-rnn'> Repo with char-rnn code </a>\n",
    "3. Cool repo with PyTorch examples: [link](https://github.com/spro/practical-pytorch)"
   ]
  }
 ],
 "metadata": {
  "anaconda-cloud": {},
  "kernelspec": {
   "display_name": "Python 3",
   "language": "python",
   "name": "python3"
  },
  "language_info": {
   "codemirror_mode": {
    "name": "ipython",
    "version": 3
   },
   "file_extension": ".py",
   "mimetype": "text/x-python",
   "name": "python",
   "nbconvert_exporter": "python",
   "pygments_lexer": "ipython3",
   "version": "3.7.4"
  }
 },
 "nbformat": 4,
 "nbformat_minor": 2
}
